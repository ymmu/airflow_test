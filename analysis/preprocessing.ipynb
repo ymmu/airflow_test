{
 "cells": [
  {
   "cell_type": "code",
   "execution_count": 1,
   "id": "28b3a09f",
   "metadata": {},
   "outputs": [],
   "source": [
    "import sys \n",
    "import pandas as pd\n",
    "from datetime import datetime\n",
    "import glob, os"
   ]
  },
  {
   "cell_type": "markdown",
   "id": "e57ae5ce",
   "metadata": {},
   "source": [
    "# test1 과정\n",
    "10번 반복(약 10분 데이터)\n",
    "- mysql listenbrainz 테이블에서 offset 부터 15~30가량의 데이터를 가지고 옴\n",
    "- user 데이터 user 테이블에 \n",
    "    - 없으면 추가\n",
    "    - 업데이트\n",
    "- 테이블 확인"
   ]
  },
  {
   "cell_type": "code",
   "execution_count": null,
   "id": "5550f47d",
   "metadata": {},
   "outputs": [],
   "source": [
    "import multiprocessing as mp\n",
    "\n",
    "def parallel_dataframe(df, func):\n",
    "    global num_cores\n",
    "    df_split = np.array_split(df, num_cores)\n",
    "    pool = mp.Pool(num_cores)\n",
    "    df = pd.concat(pool.map(func, df_split))\n",
    "    pool.close()\n",
    "    pool.join()\n",
    "    return df"
   ]
  },
  {
   "cell_type": "code",
   "execution_count": null,
   "id": "490d13c5",
   "metadata": {},
   "outputs": [],
   "source": [
    "def get_data_from_mariadb():\n",
    "    \n",
    "def get_data(test=True):\n",
    "    '''\n",
    "    test=True일 때는 mariaDB에서 가져옴\n",
    "    False일 때는 kafka에서. \n",
    "    '''\n",
    "    if test:\n",
    "        get_data_from_mariadb()\n",
    "    pass\n",
    "\n",
    "def preprocess():\n",
    "    # 멀티프로세스 이용.\n",
    "    # 데이터 넣을 때 에러나면 \n",
    "    pass\n",
    "\n",
    "def store_date():\n",
    "    # 데이터를 저장하는 단계"
   ]
  }
 ],
 "metadata": {
  "kernelspec": {
   "display_name": "Python 3 (ipykernel)",
   "language": "python",
   "name": "python3"
  },
  "language_info": {
   "codemirror_mode": {
    "name": "ipython",
    "version": 3
   },
   "file_extension": ".py",
   "mimetype": "text/x-python",
   "name": "python",
   "nbconvert_exporter": "python",
   "pygments_lexer": "ipython3",
   "version": "3.8.10"
  }
 },
 "nbformat": 4,
 "nbformat_minor": 5
}
