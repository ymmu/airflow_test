{
 "cells": [
  {
   "cell_type": "code",
   "execution_count": 1,
   "id": "7cebbf5b",
   "metadata": {},
   "outputs": [],
   "source": [
    "import sys \n",
    "import mariadb\n",
    "import pandas as pd\n",
    "from datetime import datetime"
   ]
  },
  {
   "cell_type": "markdown",
   "id": "75043c93",
   "metadata": {},
   "source": [
    "# 기본 플롯 설정"
   ]
  },
  {
   "cell_type": "code",
   "execution_count": 193,
   "id": "cd75f68d",
   "metadata": {},
   "outputs": [],
   "source": [
    "from sklearn.tree import DecisionTreeClassifier\n",
    "from sklearn.model_selection import train_test_split\n",
    "import warnings\n",
    "\n",
    "import matplotlib.pyplot as plt\n",
    "import seaborn as sns\n",
    "import pandas as pd\n",
    "import numpy as np\n",
    "%matplotlib inline\n",
    "\n",
    "# Set Matplotlib defaults\n",
    "plt.style.use(\"seaborn-whitegrid\")\n",
    "plt.rc(\"figure\", autolayout=True, figsize=(11, 4))\n",
    "plt.rc(\n",
    "    \"axes\",\n",
    "    labelweight=\"bold\",\n",
    "    labelsize=\"large\",\n",
    "    titleweight=\"bold\",\n",
    "    titlesize=16,\n",
    "    titlepad=10,\n",
    ")\n",
    "plot_params = dict(\n",
    "    color=\"0.75\",\n",
    "    style=\".-\",\n",
    "    markeredgecolor=\"0.25\",\n",
    "    markerfacecolor=\"0.25\",\n",
    ")\n",
    "\n",
    "warnings.filterwarnings('ignore')"
   ]
  },
  {
   "cell_type": "markdown",
   "id": "041d7a21",
   "metadata": {},
   "source": [
    "# pymysql로 연결"
   ]
  },
  {
   "cell_type": "code",
   "execution_count": 14,
   "id": "6d59fef4",
   "metadata": {},
   "outputs": [],
   "source": [
    "import yaml\n",
    "with open('./config/config.yml') as f:\n",
    "    conf = yaml.load(f, Loader=yaml.FullLoader)['mysql']\n",
    "    host=conf['host'] \n",
    "    user=conf['user'] \n",
    "    passwd=conf['passwd'] \n",
    "    port=conf['port']"
   ]
  },
  {
   "cell_type": "code",
   "execution_count": 15,
   "id": "f2ef3e04",
   "metadata": {},
   "outputs": [],
   "source": [
    "# import the mysql client for python\n",
    "\n",
    "import pymysql\n",
    "\t\t\t\n",
    "database = \"sample\"\n",
    "database=database\n",
    "conn = pymysql.connect(host=host, \n",
    "                       user=user, \n",
    "                       password=passwd, \n",
    "                       database=database, \n",
    "                       port=port)\n",
    "\n",
    "cur = conn.cursor()\n"
   ]
  },
  {
   "cell_type": "markdown",
   "id": "67848d71",
   "metadata": {},
   "source": [
    "## DB엔진 확인"
   ]
  },
  {
   "cell_type": "code",
   "execution_count": 16,
   "id": "7b69d2ea",
   "metadata": {},
   "outputs": [
    {
     "name": "stdout",
     "output_type": "stream",
     "text": [
      "1 details inserted\n"
     ]
    }
   ],
   "source": [
    "cur = conn.cursor()\n",
    "#query = f\"INSERT INTO PRODUCT (PRODUCT_ID, price,PRODUCT_TYPE) VALUES ('{PRODUCT_ID}', '{price}', '{PRODUCT_TYPE}')\"\n",
    "q = '''\n",
    "select engine, support \n",
    "from information_schema.engines\n",
    "where support='DEFAULT'\n",
    "'''\n",
    "\n",
    "# default 엔진 수정\n",
    "'''\n",
    "SET default_storage_engine=엔진이름;\n",
    "'''\n",
    "cur.execute(q)\n",
    "print(f\"{cur.rowcount} details inserted\")\n",
    "conn.commit()\n",
    "#conn.close()\n"
   ]
  },
  {
   "cell_type": "code",
   "execution_count": 17,
   "id": "cf2ab23d",
   "metadata": {},
   "outputs": [
    {
     "data": {
      "text/plain": [
       "('InnoDB', 'DEFAULT')"
      ]
     },
     "execution_count": 17,
     "metadata": {},
     "output_type": "execute_result"
    }
   ],
   "source": [
    "rst = cur.fetchall()\n",
    "rst[0]"
   ]
  },
  {
   "cell_type": "markdown",
   "id": "54b29107",
   "metadata": {},
   "source": [
    "# 테이블 컬럼 보기"
   ]
  },
  {
   "cell_type": "code",
   "execution_count": 36,
   "id": "261eeae0",
   "metadata": {},
   "outputs": [],
   "source": [
    "q = 'SHOW COLUMNS FROM sample.superstore'\n",
    "cur.execute(q)\n",
    "rst = cur.fetchall()\n",
    "conn.commit()\n",
    "#conn.close()\n",
    "#rst"
   ]
  },
  {
   "cell_type": "markdown",
   "id": "d5a7adde",
   "metadata": {},
   "source": [
    "# 엑셀 데이터 db에 넣기"
   ]
  },
  {
   "cell_type": "code",
   "execution_count": 41,
   "id": "5b8a8289",
   "metadata": {},
   "outputs": [],
   "source": [
    "# df = pd.read_excel('Sample - Superstore.xls', sheet_name=0)"
   ]
  },
  {
   "cell_type": "code",
   "execution_count": 42,
   "id": "7674dff4",
   "metadata": {},
   "outputs": [],
   "source": [
    "#! pip3 install xlrd\n",
    "#!pip install pymysql\n",
    "#!pip install sqlalchemy"
   ]
  },
  {
   "cell_type": "code",
   "execution_count": null,
   "id": "4145db0d",
   "metadata": {},
   "outputs": [],
   "source": []
  },
  {
   "cell_type": "code",
   "execution_count": 76,
   "id": "80d6c915",
   "metadata": {},
   "outputs": [],
   "source": [
    "df = pd.read_csv('./data/action_log.csv')"
   ]
  },
  {
   "cell_type": "markdown",
   "id": "42e8f382",
   "metadata": {},
   "source": [
    "# 데이터 DB에 넣기"
   ]
  },
  {
   "cell_type": "code",
   "execution_count": 29,
   "id": "cd72a810",
   "metadata": {},
   "outputs": [],
   "source": [
    "from sqlalchemy import create_engine\n",
    "\n",
    "db_connection_str = f'mysql+pymysql://{user}:{passwd}@{host}/{database}'\n",
    "db_connection = create_engine(db_connection_str)\n",
    "conn = db_connection.connect()"
   ]
  },
  {
   "cell_type": "code",
   "execution_count": 77,
   "id": "3c61eb22",
   "metadata": {},
   "outputs": [],
   "source": [
    "df.to_sql(name='action_log', \n",
    "          con=db_connection, \n",
    "          if_exists='replace', \n",
    "          index=False)"
   ]
  },
  {
   "cell_type": "code",
   "execution_count": 60,
   "id": "674d8662",
   "metadata": {},
   "outputs": [
    {
     "name": "stdout",
     "output_type": "stream",
     "text": [
      "72 details inserted\n"
     ]
    }
   ],
   "source": [
    "q = '''\n",
    "with reg_month as (\n",
    "    SELECT *, DATE_FORMAT(register_date,\"%Y-%m\") as new_reg_date, count(*) as new_users\n",
    "    FROM mrt_users\n",
    "    group by new_reg_date\n",
    ")\n",
    "\n",
    "\n",
    "select *\n",
    "from reg_month as r\n",
    "join (\n",
    "    SELECT *, DATE_FORMAT(register_date,\"%Y-%m\") as new_reg_date, count(*) as new_users\n",
    "    FROM action_log\n",
    "    group by new_reg_date\n",
    ") as act\n",
    "#on r.reg_month = act.action_month\n",
    "\n",
    "'''\n",
    "\n",
    "\n",
    "'''\n",
    "SELECT * , count(*) as count_\n",
    "FROM mrt_users\n",
    "group by register_date\n",
    "'''\n",
    "\n",
    "\n",
    "\"\"\"\n",
    "RENAME TABLE mst_users TO mrt_users\n",
    "\"\"\"\n",
    "\n",
    "cur.execute(q)\n",
    "print(f\"{cur.rowcount} details inserted\")\n",
    "conn.commit()\n",
    "#conn.close()"
   ]
  },
  {
   "cell_type": "code",
   "execution_count": 61,
   "id": "3b959b7a",
   "metadata": {},
   "outputs": [],
   "source": [
    "rst = cur.fetchall()"
   ]
  },
  {
   "cell_type": "code",
   "execution_count": null,
   "id": "f32e1a88",
   "metadata": {},
   "outputs": [],
   "source": []
  },
  {
   "cell_type": "markdown",
   "id": "9996b813",
   "metadata": {},
   "source": [
    "# ListenBrainz 데이터 전처리\n",
    "1. 데이터 날짜 다 들어갔는지 확인 (누락부분 채워넣기) \n",
    "2. tags 값 없으면 컬럼 삭제\n",
    "3.  "
   ]
  },
  {
   "cell_type": "markdown",
   "id": "6a63b7d3",
   "metadata": {},
   "source": [
    "## - 데이터 시간 검사\n",
    "- 데이터 시간 순서가 섞여있음"
   ]
  },
  {
   "cell_type": "code",
   "execution_count": 126,
   "id": "49f3bd06",
   "metadata": {},
   "outputs": [
    {
     "name": "stdout",
     "output_type": "stream",
     "text": [
      "file_name: bq-results-20220209-20150101-20150531.csv\n",
      "# from 2015-01-01 00:00:06 UTC to 2015-05-31 23:59:51 UTC\n",
      "# of lines : 6010000\n",
      "# of NaN in tags : 6006601 (99.94%)\n",
      "\n",
      "file_name: bq-results-20220209-20150601-20150931.csv\n",
      "# from 2015-06-01 00:00:01 UTC to 2015-09-13 21:01:09 UTC\n",
      "# of lines : 570000\n",
      "# of NaN in tags : 569850 (99.97%)\n",
      "\n",
      "file_name: bq-results-20220209-20151001-20160131.csv\n",
      "# from 2015-10-01 00:00:04 UTC to 2016-01-31 23:59:57 UTC\n",
      "# of lines : 4930000\n",
      "# of NaN in tags : 4927275 (99.94%)\n",
      "\n",
      "file_name: bq-results-20220209-20160201_20160531.csv\n",
      "# from 2016-02-01 00:00:00 UTC to 2016-05-31 23:59:57 UTC\n",
      "# of lines : 5060000\n",
      "# of NaN in tags : 5053092 (99.86%)\n",
      "\n",
      "file_name: bq-results-20220209-20160601_20160930.csv\n",
      "# from 2016-06-01 00:00:04 UTC to 2016-09-30 23:59:59 UTC\n",
      "# of lines : 5070000\n",
      "# of NaN in tags : 5065032 (99.9%)\n",
      "\n",
      "file_name: bq-results-20220209-20161001_20170101.csv\n",
      "# from 2016-10-01 00:00:01 UTC to 2017-01-01 23:59:58 UTC\n",
      "# of lines : 4210000\n",
      "# of NaN in tags : 4204495 (99.87%)\n",
      "\n",
      "file_name: bq-results-20220209-20170102_20170430.csv\n",
      "# from 2017-01-02 00:00:02 UTC to 2017-04-30 23:59:59 UTC\n",
      "# of lines : 5880000\n",
      "# of NaN in tags : 5879891 (100.0%)\n",
      "\n",
      "file_name: bq-results-20220209-20170501_20170831.csv\n",
      "# from 2017-05-01 00:00:00 UTC to 2017-08-31 23:59:59 UTC\n",
      "# of lines : 6070000\n",
      "# of NaN in tags : 6068641 (99.98%)\n",
      "\n",
      "file_name: bq-results-20220209-20170901_20171231.csv\n",
      "# from 2017-09-01 00:00:06 UTC to 2017-12-31 23:59:54 UTC\n",
      "# of lines : 4830000\n",
      "# of NaN in tags : 4823115 (99.86%)\n",
      "\n"
     ]
    }
   ],
   "source": [
    "# 큰 데이터 나눠가져오기\n",
    "chunksize = 10**4\n",
    "import glob, os\n",
    "\n",
    "csv_files = glob.glob(\"../DE/listenBrainz_data_201501_to_201605/*.csv\")\n",
    "# \"../DE/listenBrainz_data_201501_to_201605/bq-results-20220209-20150101-20150531.csv\"\n",
    "tags_basket = [] \n",
    "for f in csv_files:\n",
    "    earliest_t = None\n",
    "    last_t = None\n",
    "    csv_chunk = pd.read_csv(f,chunksize=chunksize)\n",
    "\n",
    "    num_lines = 0\n",
    "    test_chunk = None\n",
    "    tags_nan_check = 0\n",
    "\n",
    "    for i, chunk in enumerate(csv_chunk) :\n",
    "        chunk = chunk.set_index('listened_at')\n",
    "        earliest_t = chunk.index.min() if not earliest_t else min(earliest_t, chunk.index.min())\n",
    "        last_t = chunk.index.max() if not last_t else max(last_t, chunk.index.max())\n",
    "        num_lines += chunksize \n",
    "\n",
    "        try:\n",
    "            tags_nan_check += chunk.tags.isna().count() \n",
    "            tags_basket.extend(list(chunk[chunk.tags.notna()]['tags']))\n",
    "            # 시간 체크\n",
    "            #piece = chunk.loc['2015-01-01 13:17':'2015-01-01 13:18']\n",
    "            #if piece.shape[0] >0:\n",
    "            #    pass\n",
    "                #print(f\"{i}th : \")\n",
    "                #print(piece)\n",
    "\n",
    "        except Exception as e:\n",
    "            print(e)\n",
    "        if i ==0:\n",
    "            test_chunk = chunk\n",
    "\n",
    "    print(f'file_name: {os.path.basename(f)}')\n",
    "    print(f'- from {earliest_t} to {last_t}')\n",
    "    print(f'- # of lines : {num_lines}')\n",
    "    print(f'- # of NaN in tags : {tags_nan_check} ({round(tags_nan_check*100/num_lines, 2)}%)') \n",
    "    print()"
   ]
  },
  {
   "cell_type": "markdown",
   "id": "d744ef06",
   "metadata": {},
   "source": [
    "tag 버리기 전에 뭐가 들어가 있나 확인.\n",
    "- 음악 장르가 들어가 있음"
   ]
  },
  {
   "cell_type": "code",
   "execution_count": 128,
   "id": "c4a284c6",
   "metadata": {},
   "outputs": [
    {
     "data": {
      "text/plain": [
       "0                                              test1,test2\n",
       "1                             Rock And Roll,Merseybeat,Pop\n",
       "24                            Rock And Roll,Pop,Beat Music\n",
       "38                                           Rock And Roll\n",
       "42                                                    Beat\n",
       "                               ...                        \n",
       "20522                                  Downtempo,Synth-pop\n",
       "20545    Indie,Female Vocalists,Pop,French,Singer-Songw...\n",
       "20555    Electronica,Experimental,Electro,Minimal,Indus...\n",
       "20794                                            Dream pop\n",
       "20873                                              PopSike\n",
       "Length: 772, dtype: object"
      ]
     },
     "execution_count": 128,
     "metadata": {},
     "output_type": "execute_result"
    }
   ],
   "source": [
    "len(tags_basket)\n",
    "tags = pd.Series(tags_basket)\n",
    "tags.drop_duplicates()"
   ]
  },
  {
   "cell_type": "markdown",
   "id": "aa7a8fb8",
   "metadata": {},
   "source": [
    "## - 초/분/시간 당 로그양 살펴보기\n",
    "- 여러 번 샘플링해서 통계를 내야 하지만 먼저 특정 하루만 살펴보자\n",
    "\n",
    "관찰:\n",
    "- release_name과 release_msid를 전처리해줘야 함."
   ]
  },
  {
   "cell_type": "code",
   "execution_count": 219,
   "id": "9cc7b05f",
   "metadata": {},
   "outputs": [
    {
     "name": "stdout",
     "output_type": "stream",
     "text": [
      "file_name: bq-results-20220209-20170901_20171231.csv\n",
      "- # of logs at 2017-09-01 : 42260\n",
      "\n"
     ]
    }
   ],
   "source": [
    "f_ =  \"../DE/listenBrainz_data_201501_to_201605/bq-results-20220209-20170901_20171231.csv\"\n",
    "csv_chunk = pd.read_csv(f_, chunksize=chunksize)\n",
    "\n",
    "num_lines = 0\n",
    "test_chunk = None\n",
    "tags_nan_check = 0\n",
    "sample_df = pd.DataFrame()\n",
    "sample_t = '2017-09-01'\n",
    "for i, chunk in enumerate(csv_chunk) :\n",
    "    chunk = chunk.set_index('listened_at')\n",
    "    num_lines += chunksize \n",
    "\n",
    "    try:\n",
    "        tags_nan_check += chunk.tags.isna().count() \n",
    "        tags_basket.extend(list(chunk[chunk.tags.notna()]['tags']))\n",
    "        # 시간 체크\n",
    "        sample_df = pd.concat([sample_df, chunk.loc[sample_t:sample_t+' 23:59:59']])\n",
    "        #if piece.shape[0] >0:\n",
    "        #    pass\n",
    "            #print(f\"{i}th : \")\n",
    "            #print(piece)\n",
    "\n",
    "    except Exception as e:\n",
    "        pass\n",
    "        #print(e)\n",
    "    if i ==0:\n",
    "        test_chunk = chunk\n",
    "\n",
    "print(f'file_name: {os.path.basename(f)}')\n",
    "print(f'- # of logs at {sample_t} : {sample_df.shape[0]}')\n",
    "\n",
    "print()"
   ]
  },
  {
   "cell_type": "markdown",
   "id": "a19885bc",
   "metadata": {},
   "source": [
    "head와 tail을 살펴 값이 시간 확인"
   ]
  },
  {
   "cell_type": "code",
   "execution_count": 220,
   "id": "eb0c287f",
   "metadata": {},
   "outputs": [
    {
     "data": {
      "text/html": [
       "<div>\n",
       "<style scoped>\n",
       "    .dataframe tbody tr th:only-of-type {\n",
       "        vertical-align: middle;\n",
       "    }\n",
       "\n",
       "    .dataframe tbody tr th {\n",
       "        vertical-align: top;\n",
       "    }\n",
       "\n",
       "    .dataframe thead th {\n",
       "        text-align: right;\n",
       "    }\n",
       "</style>\n",
       "<table border=\"1\" class=\"dataframe\">\n",
       "  <thead>\n",
       "    <tr style=\"text-align: right;\">\n",
       "      <th></th>\n",
       "      <th>user_name</th>\n",
       "      <th>artist_name</th>\n",
       "      <th>artist_msid</th>\n",
       "      <th>release_name</th>\n",
       "      <th>release_msid</th>\n",
       "      <th>track_name</th>\n",
       "      <th>recording_msid</th>\n",
       "      <th>tags</th>\n",
       "    </tr>\n",
       "    <tr>\n",
       "      <th>listened_at</th>\n",
       "      <th></th>\n",
       "      <th></th>\n",
       "      <th></th>\n",
       "      <th></th>\n",
       "      <th></th>\n",
       "      <th></th>\n",
       "      <th></th>\n",
       "      <th></th>\n",
       "    </tr>\n",
       "  </thead>\n",
       "  <tbody>\n",
       "    <tr>\n",
       "      <th>2017-09-01 00:00:06 UTC</th>\n",
       "      <td>braydenmclellan</td>\n",
       "      <td>Small Black</td>\n",
       "      <td>3e1256e3-4183-4dc5-bf90-ad1c9b0c8eb3</td>\n",
       "      <td>NaN</td>\n",
       "      <td>NaN</td>\n",
       "      <td>Search Party</td>\n",
       "      <td>56177420-d17d-47dd-83d9-9bcde19cbb5d</td>\n",
       "      <td>NaN</td>\n",
       "    </tr>\n",
       "    <tr>\n",
       "      <th>2017-09-01 00:00:09 UTC</th>\n",
       "      <td>user18081971</td>\n",
       "      <td>Slowdive</td>\n",
       "      <td>f69942be-bccd-44eb-8962-2e5025507196</td>\n",
       "      <td>Souvlaki</td>\n",
       "      <td>f8a36f48-65d3-4369-9c2d-f641f17f458b</td>\n",
       "      <td>Souvlaki Space Station</td>\n",
       "      <td>69ea7fb7-6df8-403c-8748-fcb0827d1fb4</td>\n",
       "      <td>NaN</td>\n",
       "    </tr>\n",
       "    <tr>\n",
       "      <th>2017-09-01 00:00:10 UTC</th>\n",
       "      <td>zimonledemon</td>\n",
       "      <td>The Kinks</td>\n",
       "      <td>b76996af-1dce-4fa7-839a-42f2b781dfa2</td>\n",
       "      <td>NaN</td>\n",
       "      <td>9fb96da2-519a-49bc-8240-434e9118add5</td>\n",
       "      <td>Waterloo Sunset - Mono Version</td>\n",
       "      <td>425a1718-5186-4c4e-a5c5-8f78479db6fa</td>\n",
       "      <td>NaN</td>\n",
       "    </tr>\n",
       "    <tr>\n",
       "      <th>2017-09-01 00:00:17 UTC</th>\n",
       "      <td>whygottalogin</td>\n",
       "      <td>Pop Will Eat Itself</td>\n",
       "      <td>edd660e7-70a5-4385-ac87-1a773b806891</td>\n",
       "      <td>NaN</td>\n",
       "      <td>8c4a6d2d-b215-4d1a-831a-9feefc1e94e0</td>\n",
       "      <td>Poison To The Mind</td>\n",
       "      <td>9cef0949-f02a-4bfe-b4f4-ce12910a7853</td>\n",
       "      <td>NaN</td>\n",
       "    </tr>\n",
       "    <tr>\n",
       "      <th>2017-09-01 00:00:18 UTC</th>\n",
       "      <td>I_am_walking</td>\n",
       "      <td>A Victim Of Society</td>\n",
       "      <td>618341c5-6ef6-43e8-89a6-a2b0d6865f4b</td>\n",
       "      <td>NaN</td>\n",
       "      <td>NaN</td>\n",
       "      <td>The Revolution Will Not Be Televised (Gil Scot...</td>\n",
       "      <td>173ff0a9-25d9-449c-8646-6070305acf81</td>\n",
       "      <td>NaN</td>\n",
       "    </tr>\n",
       "  </tbody>\n",
       "</table>\n",
       "</div>"
      ],
      "text/plain": [
       "                               user_name          artist_name  \\\n",
       "listened_at                                                     \n",
       "2017-09-01 00:00:06 UTC  braydenmclellan          Small Black   \n",
       "2017-09-01 00:00:09 UTC     user18081971             Slowdive   \n",
       "2017-09-01 00:00:10 UTC     zimonledemon            The Kinks   \n",
       "2017-09-01 00:00:17 UTC    whygottalogin  Pop Will Eat Itself   \n",
       "2017-09-01 00:00:18 UTC     I_am_walking  A Victim Of Society   \n",
       "\n",
       "                                                  artist_msid release_name  \\\n",
       "listened_at                                                                  \n",
       "2017-09-01 00:00:06 UTC  3e1256e3-4183-4dc5-bf90-ad1c9b0c8eb3          NaN   \n",
       "2017-09-01 00:00:09 UTC  f69942be-bccd-44eb-8962-2e5025507196     Souvlaki   \n",
       "2017-09-01 00:00:10 UTC  b76996af-1dce-4fa7-839a-42f2b781dfa2          NaN   \n",
       "2017-09-01 00:00:17 UTC  edd660e7-70a5-4385-ac87-1a773b806891          NaN   \n",
       "2017-09-01 00:00:18 UTC  618341c5-6ef6-43e8-89a6-a2b0d6865f4b          NaN   \n",
       "\n",
       "                                                 release_msid  \\\n",
       "listened_at                                                     \n",
       "2017-09-01 00:00:06 UTC                                   NaN   \n",
       "2017-09-01 00:00:09 UTC  f8a36f48-65d3-4369-9c2d-f641f17f458b   \n",
       "2017-09-01 00:00:10 UTC  9fb96da2-519a-49bc-8240-434e9118add5   \n",
       "2017-09-01 00:00:17 UTC  8c4a6d2d-b215-4d1a-831a-9feefc1e94e0   \n",
       "2017-09-01 00:00:18 UTC                                   NaN   \n",
       "\n",
       "                                                                track_name  \\\n",
       "listened_at                                                                  \n",
       "2017-09-01 00:00:06 UTC                                       Search Party   \n",
       "2017-09-01 00:00:09 UTC                             Souvlaki Space Station   \n",
       "2017-09-01 00:00:10 UTC                     Waterloo Sunset - Mono Version   \n",
       "2017-09-01 00:00:17 UTC                                 Poison To The Mind   \n",
       "2017-09-01 00:00:18 UTC  The Revolution Will Not Be Televised (Gil Scot...   \n",
       "\n",
       "                                               recording_msid tags  \n",
       "listened_at                                                         \n",
       "2017-09-01 00:00:06 UTC  56177420-d17d-47dd-83d9-9bcde19cbb5d  NaN  \n",
       "2017-09-01 00:00:09 UTC  69ea7fb7-6df8-403c-8748-fcb0827d1fb4  NaN  \n",
       "2017-09-01 00:00:10 UTC  425a1718-5186-4c4e-a5c5-8f78479db6fa  NaN  \n",
       "2017-09-01 00:00:17 UTC  9cef0949-f02a-4bfe-b4f4-ce12910a7853  NaN  \n",
       "2017-09-01 00:00:18 UTC  173ff0a9-25d9-449c-8646-6070305acf81  NaN  "
      ]
     },
     "execution_count": 220,
     "metadata": {},
     "output_type": "execute_result"
    }
   ],
   "source": [
    "sample_df.head()"
   ]
  },
  {
   "cell_type": "code",
   "execution_count": 221,
   "id": "d3cb39d2",
   "metadata": {},
   "outputs": [
    {
     "data": {
      "text/html": [
       "<div>\n",
       "<style scoped>\n",
       "    .dataframe tbody tr th:only-of-type {\n",
       "        vertical-align: middle;\n",
       "    }\n",
       "\n",
       "    .dataframe tbody tr th {\n",
       "        vertical-align: top;\n",
       "    }\n",
       "\n",
       "    .dataframe thead th {\n",
       "        text-align: right;\n",
       "    }\n",
       "</style>\n",
       "<table border=\"1\" class=\"dataframe\">\n",
       "  <thead>\n",
       "    <tr style=\"text-align: right;\">\n",
       "      <th></th>\n",
       "      <th>user_name</th>\n",
       "      <th>artist_name</th>\n",
       "      <th>artist_msid</th>\n",
       "      <th>release_name</th>\n",
       "      <th>release_msid</th>\n",
       "      <th>track_name</th>\n",
       "      <th>recording_msid</th>\n",
       "      <th>tags</th>\n",
       "    </tr>\n",
       "    <tr>\n",
       "      <th>listened_at</th>\n",
       "      <th></th>\n",
       "      <th></th>\n",
       "      <th></th>\n",
       "      <th></th>\n",
       "      <th></th>\n",
       "      <th></th>\n",
       "      <th></th>\n",
       "      <th></th>\n",
       "    </tr>\n",
       "  </thead>\n",
       "  <tbody>\n",
       "    <tr>\n",
       "      <th>2017-09-01 23:59:46 UTC</th>\n",
       "      <td>SURIV</td>\n",
       "      <td>Jean Sébastien Bach / Wilhelm Kempff</td>\n",
       "      <td>94fd5409-7cd7-4553-a9b5-d6e248bcf60b</td>\n",
       "      <td>NaN</td>\n",
       "      <td>NaN</td>\n",
       "      <td>Choral-Prélude “Es ist gewisslich an der Zeit”...</td>\n",
       "      <td>ddfe562f-f00f-4899-974b-c45dc5906e6c</td>\n",
       "      <td>NaN</td>\n",
       "    </tr>\n",
       "    <tr>\n",
       "      <th>2017-09-01 23:59:51 UTC</th>\n",
       "      <td>yurrriq</td>\n",
       "      <td>Cakes Da Killa</td>\n",
       "      <td>12e115d8-709f-4f9b-93e1-c9988e35cf67</td>\n",
       "      <td>Shots Fired X Thirst Trap</td>\n",
       "      <td>a8a4a7b1-518a-415d-9983-8aa6dc0d893b</td>\n",
       "      <td>Thirst Trap</td>\n",
       "      <td>0b684cab-f396-47fb-8d3c-d74be03630ee</td>\n",
       "      <td>NaN</td>\n",
       "    </tr>\n",
       "    <tr>\n",
       "      <th>2017-09-01 23:59:52 UTC</th>\n",
       "      <td>davidsuxx</td>\n",
       "      <td>Chara</td>\n",
       "      <td>c23397b8-380a-4a38-bd64-af9587b262d2</td>\n",
       "      <td>NaN</td>\n",
       "      <td>278cfa80-0b61-473f-a1be-e0d7003542e6</td>\n",
       "      <td>元気をだして</td>\n",
       "      <td>50011add-24d9-4ebc-bc53-4295cd5d5f70</td>\n",
       "      <td>NaN</td>\n",
       "    </tr>\n",
       "    <tr>\n",
       "      <th>2017-09-01 23:59:56 UTC</th>\n",
       "      <td>phonebox</td>\n",
       "      <td>Jesu / Sun Kil Moon</td>\n",
       "      <td>ee937d9c-27a0-49b4-8525-cafdf6cc596c</td>\n",
       "      <td>30 Seconds To The Decline Of Planet Earth</td>\n",
       "      <td>4d26fa39-7ad8-427d-a806-957000f3568c</td>\n",
       "      <td>Wheat Bread</td>\n",
       "      <td>4bd081a5-23f0-4de6-9412-75938a2347d2</td>\n",
       "      <td>NaN</td>\n",
       "    </tr>\n",
       "    <tr>\n",
       "      <th>2017-09-01 23:59:57 UTC</th>\n",
       "      <td>knockergrowl</td>\n",
       "      <td>System of a Down</td>\n",
       "      <td>9e5f26f1-95ab-43ad-b7f9-22ff5cd29dee</td>\n",
       "      <td>NaN</td>\n",
       "      <td>eec8e83b-6f76-4e88-bdbd-f810d73a1f20</td>\n",
       "      <td>Jet Pilot</td>\n",
       "      <td>edb8ce70-3bcb-4997-a32b-def780f070fb</td>\n",
       "      <td>NaN</td>\n",
       "    </tr>\n",
       "  </tbody>\n",
       "</table>\n",
       "</div>"
      ],
      "text/plain": [
       "                            user_name                           artist_name  \\\n",
       "listened_at                                                                   \n",
       "2017-09-01 23:59:46 UTC         SURIV  Jean Sébastien Bach / Wilhelm Kempff   \n",
       "2017-09-01 23:59:51 UTC       yurrriq                        Cakes Da Killa   \n",
       "2017-09-01 23:59:52 UTC     davidsuxx                                 Chara   \n",
       "2017-09-01 23:59:56 UTC      phonebox                   Jesu / Sun Kil Moon   \n",
       "2017-09-01 23:59:57 UTC  knockergrowl                      System of a Down   \n",
       "\n",
       "                                                  artist_msid  \\\n",
       "listened_at                                                     \n",
       "2017-09-01 23:59:46 UTC  94fd5409-7cd7-4553-a9b5-d6e248bcf60b   \n",
       "2017-09-01 23:59:51 UTC  12e115d8-709f-4f9b-93e1-c9988e35cf67   \n",
       "2017-09-01 23:59:52 UTC  c23397b8-380a-4a38-bd64-af9587b262d2   \n",
       "2017-09-01 23:59:56 UTC  ee937d9c-27a0-49b4-8525-cafdf6cc596c   \n",
       "2017-09-01 23:59:57 UTC  9e5f26f1-95ab-43ad-b7f9-22ff5cd29dee   \n",
       "\n",
       "                                                      release_name  \\\n",
       "listened_at                                                          \n",
       "2017-09-01 23:59:46 UTC                                        NaN   \n",
       "2017-09-01 23:59:51 UTC                  Shots Fired X Thirst Trap   \n",
       "2017-09-01 23:59:52 UTC                                        NaN   \n",
       "2017-09-01 23:59:56 UTC  30 Seconds To The Decline Of Planet Earth   \n",
       "2017-09-01 23:59:57 UTC                                        NaN   \n",
       "\n",
       "                                                 release_msid  \\\n",
       "listened_at                                                     \n",
       "2017-09-01 23:59:46 UTC                                   NaN   \n",
       "2017-09-01 23:59:51 UTC  a8a4a7b1-518a-415d-9983-8aa6dc0d893b   \n",
       "2017-09-01 23:59:52 UTC  278cfa80-0b61-473f-a1be-e0d7003542e6   \n",
       "2017-09-01 23:59:56 UTC  4d26fa39-7ad8-427d-a806-957000f3568c   \n",
       "2017-09-01 23:59:57 UTC  eec8e83b-6f76-4e88-bdbd-f810d73a1f20   \n",
       "\n",
       "                                                                track_name  \\\n",
       "listened_at                                                                  \n",
       "2017-09-01 23:59:46 UTC  Choral-Prélude “Es ist gewisslich an der Zeit”...   \n",
       "2017-09-01 23:59:51 UTC                                        Thirst Trap   \n",
       "2017-09-01 23:59:52 UTC                                             元気をだして   \n",
       "2017-09-01 23:59:56 UTC                                        Wheat Bread   \n",
       "2017-09-01 23:59:57 UTC                                          Jet Pilot   \n",
       "\n",
       "                                               recording_msid tags  \n",
       "listened_at                                                         \n",
       "2017-09-01 23:59:46 UTC  ddfe562f-f00f-4899-974b-c45dc5906e6c  NaN  \n",
       "2017-09-01 23:59:51 UTC  0b684cab-f396-47fb-8d3c-d74be03630ee  NaN  \n",
       "2017-09-01 23:59:52 UTC  50011add-24d9-4ebc-bc53-4295cd5d5f70  NaN  \n",
       "2017-09-01 23:59:56 UTC  4bd081a5-23f0-4de6-9412-75938a2347d2  NaN  \n",
       "2017-09-01 23:59:57 UTC  edb8ce70-3bcb-4997-a32b-def780f070fb  NaN  "
      ]
     },
     "execution_count": 221,
     "metadata": {},
     "output_type": "execute_result"
    }
   ],
   "source": [
    "sample_df.tail()"
   ]
  },
  {
   "cell_type": "markdown",
   "id": "19fe110a",
   "metadata": {},
   "source": [
    "release_name과 release_msid를 전처리해줘야 함."
   ]
  },
  {
   "cell_type": "code",
   "execution_count": 222,
   "id": "9b114ae8",
   "metadata": {},
   "outputs": [
    {
     "name": "stdout",
     "output_type": "stream",
     "text": [
      "<class 'pandas.core.frame.DataFrame'>\n",
      "Index: 42260 entries, 2017-09-01 00:00:06 UTC to 2017-09-01 23:59:57 UTC\n",
      "Data columns (total 8 columns):\n",
      " #   Column          Non-Null Count  Dtype \n",
      "---  ------          --------------  ----- \n",
      " 0   user_name       42260 non-null  object\n",
      " 1   artist_name     42260 non-null  object\n",
      " 2   artist_msid     42260 non-null  object\n",
      " 3   release_name    14376 non-null  object\n",
      " 4   release_msid    40638 non-null  object\n",
      " 5   track_name      42260 non-null  object\n",
      " 6   recording_msid  42260 non-null  object\n",
      " 7   tags            120 non-null    object\n",
      "dtypes: object(8)\n",
      "memory usage: 2.9+ MB\n"
     ]
    }
   ],
   "source": [
    "sample_df.info()"
   ]
  },
  {
   "cell_type": "markdown",
   "id": "f4f91fbc",
   "metadata": {},
   "source": [
    "<br>\n",
    "하루의 초/분/시간당 로그유입수 통계를 보자"
   ]
  },
  {
   "cell_type": "code",
   "execution_count": 227,
   "id": "5ac8671e",
   "metadata": {},
   "outputs": [
    {
     "data": {
      "text/html": [
       "<div>\n",
       "<style scoped>\n",
       "    .dataframe tbody tr th:only-of-type {\n",
       "        vertical-align: middle;\n",
       "    }\n",
       "\n",
       "    .dataframe tbody tr th {\n",
       "        vertical-align: top;\n",
       "    }\n",
       "\n",
       "    .dataframe thead th {\n",
       "        text-align: right;\n",
       "    }\n",
       "</style>\n",
       "<table border=\"1\" class=\"dataframe\">\n",
       "  <thead>\n",
       "    <tr style=\"text-align: right;\">\n",
       "      <th></th>\n",
       "      <th>listened_at</th>\n",
       "    </tr>\n",
       "  </thead>\n",
       "  <tbody>\n",
       "    <tr>\n",
       "      <th>count</th>\n",
       "      <td>32757.000000</td>\n",
       "    </tr>\n",
       "    <tr>\n",
       "      <th>mean</th>\n",
       "      <td>1.290106</td>\n",
       "    </tr>\n",
       "    <tr>\n",
       "      <th>std</th>\n",
       "      <td>0.576436</td>\n",
       "    </tr>\n",
       "    <tr>\n",
       "      <th>min</th>\n",
       "      <td>1.000000</td>\n",
       "    </tr>\n",
       "    <tr>\n",
       "      <th>25%</th>\n",
       "      <td>1.000000</td>\n",
       "    </tr>\n",
       "    <tr>\n",
       "      <th>50%</th>\n",
       "      <td>1.000000</td>\n",
       "    </tr>\n",
       "    <tr>\n",
       "      <th>75%</th>\n",
       "      <td>1.000000</td>\n",
       "    </tr>\n",
       "    <tr>\n",
       "      <th>max</th>\n",
       "      <td>12.000000</td>\n",
       "    </tr>\n",
       "  </tbody>\n",
       "</table>\n",
       "</div>"
      ],
      "text/plain": [
       "        listened_at\n",
       "count  32757.000000\n",
       "mean       1.290106\n",
       "std        0.576436\n",
       "min        1.000000\n",
       "25%        1.000000\n",
       "50%        1.000000\n",
       "75%        1.000000\n",
       "max       12.000000"
      ]
     },
     "execution_count": 227,
     "metadata": {},
     "output_type": "execute_result"
    }
   ],
   "source": [
    "sample_df = sample_df.reset_index('listened_at')\n",
    "times = pd.to_datetime(sample_df.listened_at)\n",
    "\n",
    "#초당 로그 통계\n",
    "sample_df.groupby([times.dt.hour, times.dt.minute, times.dt.second])[['listened_at']].count().describe()"
   ]
  },
  {
   "cell_type": "code",
   "execution_count": 228,
   "id": "6d2851e5",
   "metadata": {},
   "outputs": [
    {
     "data": {
      "text/html": [
       "<div>\n",
       "<style scoped>\n",
       "    .dataframe tbody tr th:only-of-type {\n",
       "        vertical-align: middle;\n",
       "    }\n",
       "\n",
       "    .dataframe tbody tr th {\n",
       "        vertical-align: top;\n",
       "    }\n",
       "\n",
       "    .dataframe thead th {\n",
       "        text-align: right;\n",
       "    }\n",
       "</style>\n",
       "<table border=\"1\" class=\"dataframe\">\n",
       "  <thead>\n",
       "    <tr style=\"text-align: right;\">\n",
       "      <th></th>\n",
       "      <th>listened_at</th>\n",
       "    </tr>\n",
       "  </thead>\n",
       "  <tbody>\n",
       "    <tr>\n",
       "      <th>count</th>\n",
       "      <td>1440.000000</td>\n",
       "    </tr>\n",
       "    <tr>\n",
       "      <th>mean</th>\n",
       "      <td>29.347222</td>\n",
       "    </tr>\n",
       "    <tr>\n",
       "      <th>std</th>\n",
       "      <td>9.157657</td>\n",
       "    </tr>\n",
       "    <tr>\n",
       "      <th>min</th>\n",
       "      <td>8.000000</td>\n",
       "    </tr>\n",
       "    <tr>\n",
       "      <th>25%</th>\n",
       "      <td>22.000000</td>\n",
       "    </tr>\n",
       "    <tr>\n",
       "      <th>50%</th>\n",
       "      <td>30.000000</td>\n",
       "    </tr>\n",
       "    <tr>\n",
       "      <th>75%</th>\n",
       "      <td>36.000000</td>\n",
       "    </tr>\n",
       "    <tr>\n",
       "      <th>max</th>\n",
       "      <td>57.000000</td>\n",
       "    </tr>\n",
       "  </tbody>\n",
       "</table>\n",
       "</div>"
      ],
      "text/plain": [
       "       listened_at\n",
       "count  1440.000000\n",
       "mean     29.347222\n",
       "std       9.157657\n",
       "min       8.000000\n",
       "25%      22.000000\n",
       "50%      30.000000\n",
       "75%      36.000000\n",
       "max      57.000000"
      ]
     },
     "execution_count": 228,
     "metadata": {},
     "output_type": "execute_result"
    }
   ],
   "source": [
    "# 분당 로그 통계\n",
    "sample_df.groupby([times.dt.hour, times.dt.minute])[['listened_at']].count().describe()"
   ]
  },
  {
   "cell_type": "code",
   "execution_count": 229,
   "id": "503bd3e7",
   "metadata": {},
   "outputs": [
    {
     "data": {
      "text/html": [
       "<div>\n",
       "<style scoped>\n",
       "    .dataframe tbody tr th:only-of-type {\n",
       "        vertical-align: middle;\n",
       "    }\n",
       "\n",
       "    .dataframe tbody tr th {\n",
       "        vertical-align: top;\n",
       "    }\n",
       "\n",
       "    .dataframe thead th {\n",
       "        text-align: right;\n",
       "    }\n",
       "</style>\n",
       "<table border=\"1\" class=\"dataframe\">\n",
       "  <thead>\n",
       "    <tr style=\"text-align: right;\">\n",
       "      <th></th>\n",
       "      <th>listened_at</th>\n",
       "    </tr>\n",
       "  </thead>\n",
       "  <tbody>\n",
       "    <tr>\n",
       "      <th>count</th>\n",
       "      <td>24.000000</td>\n",
       "    </tr>\n",
       "    <tr>\n",
       "      <th>mean</th>\n",
       "      <td>1760.833333</td>\n",
       "    </tr>\n",
       "    <tr>\n",
       "      <th>std</th>\n",
       "      <td>464.896498</td>\n",
       "    </tr>\n",
       "    <tr>\n",
       "      <th>min</th>\n",
       "      <td>1037.000000</td>\n",
       "    </tr>\n",
       "    <tr>\n",
       "      <th>25%</th>\n",
       "      <td>1302.250000</td>\n",
       "    </tr>\n",
       "    <tr>\n",
       "      <th>50%</th>\n",
       "      <td>1823.500000</td>\n",
       "    </tr>\n",
       "    <tr>\n",
       "      <th>75%</th>\n",
       "      <td>2149.500000</td>\n",
       "    </tr>\n",
       "    <tr>\n",
       "      <th>max</th>\n",
       "      <td>2376.000000</td>\n",
       "    </tr>\n",
       "  </tbody>\n",
       "</table>\n",
       "</div>"
      ],
      "text/plain": [
       "       listened_at\n",
       "count    24.000000\n",
       "mean   1760.833333\n",
       "std     464.896498\n",
       "min    1037.000000\n",
       "25%    1302.250000\n",
       "50%    1823.500000\n",
       "75%    2149.500000\n",
       "max    2376.000000"
      ]
     },
     "execution_count": 229,
     "metadata": {},
     "output_type": "execute_result"
    }
   ],
   "source": [
    "# 시간당 로그 통계\n",
    "sample_df.groupby([times.dt.hour])[['listened_at']].count().describe()"
   ]
  },
  {
   "cell_type": "markdown",
   "id": "6268880c",
   "metadata": {},
   "source": [
    "위의 표를 시각화해볼까? <br>\n",
    "타이틀하고 x,y축 label을 잘 달아줘야 하는데."
   ]
  },
  {
   "cell_type": "code",
   "execution_count": 245,
   "id": "43e2f7bc",
   "metadata": {},
   "outputs": [
    {
     "data": {
      "image/png": "[encoded data removed]",
      "text/plain": [
       "<Figure size 504x504 with 3 Axes>"
      ]
     },
     "metadata": {},
     "output_type": "display_data"
    }
   ],
   "source": [
    "fig, axes = plt.subplots(nrows=1, ncols=3, figsize=(7, 7))\n",
    "\n",
    "# fill with colors\n",
    "colors = ['pink', 'lightblue', 'lightgreen']\n",
    "partitions = [[times.dt.hour, times.dt.minute, times.dt.second], \n",
    "               [times.dt.hour, times.dt.minute], \n",
    "               [times.dt.hour]]\n",
    "\n",
    "for i, (part, color) in enumerate(zip(partitions, colors)):\n",
    "    count_logs_h = sample_df.groupby(part)[['listened_at']].count()\n",
    "    bplot = sns.boxplot(data=count_logs_h, \n",
    "                        notch=False,\n",
    "                        ax=axes[i])\n",
    "\n",
    "    bplot.set_title('Notched box plot')\n",
    "    \n",
    "    # adding transparency to colors\n",
    "    for patch in bplot.artists:\n",
    "        patch.set_facecolor(color)\n",
    "\n",
    "# adding horizontal grid lines\n",
    "titles = ['Logs per second','Logs per minute','Logs per hour']\n",
    "for ax,t in zip(axes, titles):\n",
    "    ax.set_title(t)\n",
    "    ax.yaxis.grid(True)\n",
    "    ax.set_xlabel('Logs')\n",
    "    ax.set_ylabel('Count')"
   ]
  },
  {
   "cell_type": "markdown",
   "id": "9e0e4178",
   "metadata": {},
   "source": [
    "histplot으로는 어떠려나."
   ]
  },
  {
   "cell_type": "code",
   "execution_count": 231,
   "id": "014f3dde",
   "metadata": {},
   "outputs": [
    {
     "data": {
      "image/png": "[encoded data removed]",
      "text/plain": [
       "<Figure size 720x864 with 3 Axes>"
      ]
     },
     "metadata": {},
     "output_type": "display_data"
    }
   ],
   "source": [
    "fig, axes = plt.subplots(nrows=3, ncols=1, figsize=(10, 12))\n",
    "# fill with colors\n",
    "colors = ['pink', 'lightblue', 'lightgreen']\n",
    "partitions = [[times.dt.hour, times.dt.minute, times.dt.second], \n",
    "               [times.dt.hour, times.dt.minute], \n",
    "               [times.dt.hour]]\n",
    "for i, (part, color) in enumerate(zip(partitions, colors)):\n",
    "    count_logs_h = sample_df.groupby(part)[['listened_at']].count()\n",
    "    bplot = sns.histplot(data=count_logs_h, \n",
    "                        ax=axes[i])\n",
    "    \n",
    "    # adding transparency to colors\n",
    "    for patch in bplot.artists:\n",
    "        patch.set_facecolor(color)\n",
    "\n",
    "# adding horizontal grid lines\n",
    "titles = ['second','minute','hour']\n",
    "for ax, t in zip(axes, titles):\n",
    "    ax.set_title(f'Logs per {t}')\n",
    "    ax.yaxis.grid(True)\n",
    "    ax.set_xlabel(f'Logs')\n",
    "    ax.set_ylabel('Count')"
   ]
  },
  {
   "cell_type": "markdown",
   "id": "45025ada",
   "metadata": {},
   "source": [
    "##  - 타임라인으로 본 로그양의 변화\n",
    "- 하루 주기가 있는지 궁금하다. 다른 데이터를 봐야 한다"
   ]
  },
  {
   "cell_type": "code",
   "execution_count": 243,
   "id": "45902e73",
   "metadata": {},
   "outputs": [
    {
     "data": {
      "image/png": "[encoded data removed]",
      "text/plain": [
       "<Figure size 864x720 with 3 Axes>"
      ]
     },
     "metadata": {},
     "output_type": "display_data"
    }
   ],
   "source": [
    "fig, axes = plt.subplots(nrows=3, ncols=1, figsize=(12, 10))\n",
    "\n",
    "# fill with colors\n",
    "colors = ['pink', 'lightblue', 'lightgreen']\n",
    "partitions = [[times.dt.hour, times.dt.minute, times.dt.second], \n",
    "               [times.dt.hour, times.dt.minute], \n",
    "               [times.dt.hour]]\n",
    "\n",
    "for i, (part, color) in enumerate(zip(partitions, colors)):\n",
    "    count_logs_h = sample_df.groupby(part)[['listened_at']].count().plot(ax=axes[i])\n",
    "\n",
    "# adding horizontal grid lines\n",
    "titles = ['Logs per second','Logs per minute','Logs per hour']\n",
    "for ax,t in zip(axes, titles):\n",
    "    ax.set_title(t)\n",
    "    ax.yaxis.grid(True)\n",
    "    ax.set_xlabel(f'Timeline at {sample_t} UTC')\n",
    "    ax.set_ylabel('Count')"
   ]
  },
  {
   "cell_type": "markdown",
   "id": "a08272dd",
   "metadata": {},
   "source": [
    "# 멀티프로세스"
   ]
  },
  {
   "cell_type": "code",
   "execution_count": null,
   "id": "768857c1",
   "metadata": {},
   "outputs": [],
   "source": [
    "import multiprocessing as mp\n",
    "\n",
    "def parallel_dataframe(df, func):\n",
    "    global num_cores\n",
    "    df_split = np.array_split(df, num_cores)\n",
    "    pool = mp.Pool(num_cores)\n",
    "    df = pd.concat(pool.map(func, df_split))\n",
    "    pool.close()\n",
    "    pool.join()\n",
    "    return df"
   ]
  },
  {
   "cell_type": "code",
   "execution_count": 4,
   "id": "d0cd33f4",
   "metadata": {},
   "outputs": [
    {
     "name": "stdout",
     "output_type": "stream",
     "text": [
      "total 8\n",
      "drwxrwxrwx 1 root root    0 Feb  6 07:45 docker_job\n",
      "drwxrwxrwx 1 root root    0 Feb 10 08:02 elt_pipeline\n",
      "drwxrwxrwx 1 root root 4096 Feb  6 07:45 __pycache__\n",
      "drwxrwxrwx 1 root root 4096 Feb 10 08:02 test\n"
     ]
    }
   ],
   "source": [
    "! cd /data/airflow/dags && ls -l"
   ]
  },
  {
   "cell_type": "code",
   "execution_count": null,
   "id": "584aeb7f",
   "metadata": {},
   "outputs": [],
   "source": []
  },
  {
   "cell_type": "code",
   "execution_count": null,
   "id": "27fb8a40",
   "metadata": {},
   "outputs": [],
   "source": []
  },
  {
   "cell_type": "markdown",
   "id": "94f44045",
   "metadata": {},
   "source": [
    "# 테이블 생성"
   ]
  },
  {
   "cell_type": "code",
   "execution_count": null,
   "id": "98a807c4",
   "metadata": {},
   "outputs": [],
   "source": [
    "q = '''\n",
    "CREATE TABLE user(\n",
    "    id varchar(32) not null,\n",
    "    name varchar(32) not null,\n",
    "    primary key(id)\n",
    ")ENGINE=INNODB CHARSET=utf8;\n",
    "'''\n",
    "cur.execute(q)\n",
    "rst = cur.fetchall()\n",
    "conn.commit()\n",
    "#conn.close()\n"
   ]
  }
 ],
 "metadata": {
  "kernelspec": {
   "display_name": "Python 3 (ipykernel)",
   "language": "python",
   "name": "python3"
  },
  "language_info": {
   "codemirror_mode": {
    "name": "ipython",
    "version": 3
   },
   "file_extension": ".py",
   "mimetype": "text/x-python",
   "name": "python",
   "nbconvert_exporter": "python",
   "pygments_lexer": "ipython3",
   "version": "3.8.10"
  }
 },
 "nbformat": 4,
 "nbformat_minor": 5
}
